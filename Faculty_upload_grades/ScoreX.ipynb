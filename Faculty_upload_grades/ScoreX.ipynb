{
 "cells": [
  {
   "cell_type": "code",
   "execution_count": 1,
   "id": "e4d83c32",
   "metadata": {},
   "outputs": [],
   "source": [
    "import firebase_admin\n",
    "from firebase_admin import credentials\n",
    "from firebase_admin import db\n",
    "from firebase_admin import firestore\n"
   ]
  },
  {
   "cell_type": "code",
   "execution_count": 2,
   "id": "7b743f74",
   "metadata": {},
   "outputs": [],
   "source": [
    "cred = credentials.Certificate(\"se-test-7f7e1-firebase-adminsdk-auhlb-b7b4173ae5.json\")\n",
    "default_app = firebase_admin.initialize_app(cred,{\n",
    "    'databaseURL':'https://se-test-7f7e1-default-rtdb.firebaseio.com/'\n",
    "})"
   ]
  },
  {
   "cell_type": "code",
   "execution_count": null,
   "id": "9a3fd875",
   "metadata": {},
   "outputs": [],
   "source": [
    "#https://console.firebase.google.com/project/undefined/firestore/data/\n",
    "#https://console.firebase.google.com/u/0/project/se-test-7f7e1/firestore/data/~2FUsers\n"
   ]
  },
  {
   "cell_type": "code",
   "execution_count": 5,
   "id": "ff28594e",
   "metadata": {},
   "outputs": [
    {
     "name": "stdout",
     "output_type": "stream",
     "text": [
      "Faculty: {}\n",
      "Students: {}\n"
     ]
    }
   ],
   "source": [
    "db = firestore.client()\n",
    "users_ref = db.collection('Users')\n",
    "docs = users_ref.get()\n",
    "\n",
    "# Process the retrieved data\n",
    "for doc in docs:\n",
    "    print(f'{doc.id}: {doc.to_dict()}')\n"
   ]
  },
  {
   "cell_type": "code",
   "execution_count": 7,
   "id": "9631d733",
   "metadata": {},
   "outputs": [
    {
     "data": {
      "text/plain": [
       "[<google.cloud.firestore_v1.base_document.DocumentSnapshot at 0x161595e1fa0>,\n",
       " <google.cloud.firestore_v1.base_document.DocumentSnapshot at 0x1615966ad60>]"
      ]
     },
     "execution_count": 7,
     "metadata": {},
     "output_type": "execute_result"
    }
   ],
   "source": [
    "docs"
   ]
  },
  {
   "cell_type": "code",
   "execution_count": null,
   "id": "65a6d1d3",
   "metadata": {},
   "outputs": [],
   "source": []
  },
  {
   "cell_type": "code",
   "execution_count": 21,
   "id": "29ad6139",
   "metadata": {},
   "outputs": [],
   "source": [
    "data = {'Name': 'Jane', 'studentID' : 'SE19UCSE001'}\n",
    "# db.collection('Users')."
   ]
  },
  {
   "cell_type": "code",
   "execution_count": 22,
   "id": "8f4c4c32",
   "metadata": {},
   "outputs": [],
   "source": [
    "doc_ref = db.collection('Users').document('Students') \\\n",
    "    .collection('Batches').document('batch_19') \\\n",
    "    .collection('Branch').document('CSE') \\\n",
    "    .collection('details').add(data)\n"
   ]
  },
  {
   "cell_type": "code",
   "execution_count": 23,
   "id": "a8b475ea",
   "metadata": {},
   "outputs": [
    {
     "name": "stdout",
     "output_type": "stream",
     "text": [
      "xx1CmPPEavjhSaDaDZlu\n"
     ]
    }
   ],
   "source": [
    "doc_id = doc_ref[1].id\n",
    "print(doc_id) "
   ]
  },
  {
   "cell_type": "code",
   "execution_count": 24,
   "id": "ff18bd1d",
   "metadata": {},
   "outputs": [
    {
     "name": "stdout",
     "output_type": "stream",
     "text": [
      "14kxrjnwa3p2wbmbm2HH\n",
      "SE19UCSE001\n",
      "SE19UCSE002\n",
      "SE19UCSE003\n",
      "xx1CmPPEavjhSaDaDZlu\n"
     ]
    }
   ],
   "source": [
    "collection_path = 'Users/Students/Batches/batch_19/Branch/CSE/details'\n",
    "\n",
    "# Retrieve all document IDs within the collection\n",
    "doc_refs = db.collection(collection_path).list_documents()\n",
    "\n",
    "# Iterate over the document references and extract the IDs\n",
    "document_ids = [doc_ref.id for doc_ref in doc_refs]\n",
    "\n",
    "# Print the document IDs\n",
    "for doc_id in document_ids:\n",
    "    print(doc_id)"
   ]
  },
  {
   "cell_type": "code",
   "execution_count": 45,
   "id": "25ec36dc",
   "metadata": {},
   "outputs": [
    {
     "name": "stdout",
     "output_type": "stream",
     "text": [
      "Document ID: SE19UARI001\n",
      "Document data: {'Name': 'Toppi', 'Age': 21, 'studentID': 'SE19UARI001'}\n",
      "Document ID: SE19UARI002\n",
      "Document data: {'age': 21, 'studentID': 'SE19UARI002', 'Name': 'Pranav'}\n"
     ]
    }
   ],
   "source": [
    "\n",
    "# Specify the collection path\n",
    "collection_path = 'Users/Students/batch_19/AI/student_details'\n",
    "\n",
    "# Retrieve all documents in the collection\n",
    "docs = db.collection(collection_path).stream()\n",
    "\n",
    "# Iterate over the documents and print document details\n",
    "for doc in docs:\n",
    "    print(f'Document ID: {doc.id}')\n",
    "    print(f'Document data: {doc.to_dict()}')\n"
   ]
  },
  {
   "cell_type": "markdown",
   "id": "f0bbafca",
   "metadata": {},
   "source": [
    "# Adding details\n"
   ]
  },
  {
   "cell_type": "code",
   "execution_count": 38,
   "id": "34379715",
   "metadata": {},
   "outputs": [],
   "source": [
    "initial_path = 'Users/Students'"
   ]
  },
  {
   "cell_type": "code",
   "execution_count": 40,
   "id": "1c679968",
   "metadata": {},
   "outputs": [
    {
     "name": "stdout",
     "output_type": "stream",
     "text": [
      "Enter student's batch:19\n",
      "enter the students branch: AI\n"
     ]
    }
   ],
   "source": [
    "batch = input(\"Enter student's batch:\")\n",
    "branch = input(\"enter the students branch: \")\n",
    "\n",
    "\n"
   ]
  },
  {
   "cell_type": "code",
   "execution_count": 41,
   "id": "98a5c046",
   "metadata": {},
   "outputs": [],
   "source": [
    "path = initial_path + \"/\" + \"batch_\" + batch + \"/\" + branch + \"/\" + \"student_details\" "
   ]
  },
  {
   "cell_type": "code",
   "execution_count": 42,
   "id": "073603f4",
   "metadata": {},
   "outputs": [
    {
     "data": {
      "text/plain": [
       "'Users/Students/batch_19/AI/student_details'"
      ]
     },
     "execution_count": 42,
     "metadata": {},
     "output_type": "execute_result"
    }
   ],
   "source": [
    "path"
   ]
  },
  {
   "cell_type": "code",
   "execution_count": 44,
   "id": "bbc0ea3a",
   "metadata": {},
   "outputs": [
    {
     "name": "stdout",
     "output_type": "stream",
     "text": [
      "Data added to Firestore with custom document ID\n"
     ]
    }
   ],
   "source": [
    "\n",
    "collection_path = 'Users/Students/batch_19/AI/student_details'\n",
    "document_id = 'SE19UARI002'\n",
    "\n",
    "# Define the data to be added\n",
    "data = {\n",
    "    'Name': 'Pranav',\n",
    "    'age': 21,\n",
    "    'studentID':document_id\n",
    "}\n",
    "\n",
    "# Add the data to the specified document\n",
    "doc_ref = db.collection(collection_path).document(document_id)\n",
    "doc_ref.set(data)\n",
    "\n",
    "print('Data added to Firestore with custom document ID')\n"
   ]
  },
  {
   "cell_type": "code",
   "execution_count": null,
   "id": "7e41a2b3",
   "metadata": {},
   "outputs": [],
   "source": [
    "collection_path = \"/Users/Students/batch_19/CSE/details\"\n",
    "document_id = \"SE20UCSE001\"\n",
    "\n",
    "data = {\n",
    "    'Name':'Dhanush',\n",
    "    'age' : 20,\n",
    "    'studentID': document_id\n",
    "}"
   ]
  }
 ],
 "metadata": {
  "kernelspec": {
   "display_name": "Python 3 (ipykernel)",
   "language": "python",
   "name": "python3"
  },
  "language_info": {
   "codemirror_mode": {
    "name": "ipython",
    "version": 3
   },
   "file_extension": ".py",
   "mimetype": "text/x-python",
   "name": "python",
   "nbconvert_exporter": "python",
   "pygments_lexer": "ipython3",
   "version": "3.9.12"
  }
 },
 "nbformat": 4,
 "nbformat_minor": 5
}
