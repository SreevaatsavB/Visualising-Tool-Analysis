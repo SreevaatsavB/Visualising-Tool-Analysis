{
 "cells": [
  {
   "cell_type": "code",
   "execution_count": 10,
   "id": "27ea1efb",
   "metadata": {},
   "outputs": [],
   "source": [
    "from flask import Flask, render_template, request, request, redirect, url_for\n",
    "import csv\n",
    "import firebase_admin\n",
    "from firebase_admin import credentials\n",
    "from firebase_admin import db\n",
    "import json\n",
    "import pandas as pd\n",
    "import requests"
   ]
  },
  {
   "cell_type": "code",
   "execution_count": 2,
   "id": "4b89a00c",
   "metadata": {},
   "outputs": [
    {
     "data": {
      "text/plain": [
       "<firebase_admin.App at 0x122954a2ca0>"
      ]
     },
     "execution_count": 2,
     "metadata": {},
     "output_type": "execute_result"
    }
   ],
   "source": [
    "cred = credentials.Certificate('se-test-7f7e1-firebase-adminsdk-auhlb-b7b4173ae5.json')\n",
    "firebase_admin.initialize_app(cred, {\n",
    "    'databaseURL': 'https://se-test-7f7e1-default-rtdb.firebaseio.com/'\n",
    "})\n",
    "\n",
    "\n"
   ]
  },
  {
   "cell_type": "markdown",
   "id": "f0b466b7",
   "metadata": {},
   "source": [
    "# Update data or push data"
   ]
  },
  {
   "cell_type": "code",
   "execution_count": 12,
   "id": "f91ac0b7",
   "metadata": {},
   "outputs": [],
   "source": [
    "import requests\n",
    "\n",
    "# Set the Firebase Realtime Database URL\n",
    "database_url = 'https://se-test-7f7e1-default-rtdb.firebaseio.com/'\n",
    "\n",
    "# Specify the path where you want to add the data\n",
    "path = 'students/batch/19/CSE'\n",
    "\n",
    "\n",
    "# for i in range(len(data)):\n",
    "#     data_id = data['Student_ID'][i]\n",
    "#     data_ip = {\n",
    "#         'name' : data['Name'][i],\n",
    "#         'studentID': data_id,\n",
    "#     }\n",
    "    \n",
    "#     response = requests.put(f'{database_url}/{path}/{data_id}.json', json=data_ip)\n",
    "    \n",
    "#     if response.status_code == 200:\n",
    "#         continue\n",
    "#     else:\n",
    "#         print(\"error\")\n",
    "    \n",
    "\n"
   ]
  },
  {
   "cell_type": "code",
   "execution_count": 16,
   "id": "33a276bb",
   "metadata": {},
   "outputs": [],
   "source": [
    "path = 'students/batch/19/AI'\n",
    "\n",
    "# ai_19_data = pd.read_csv(\"C:\\\\Users\\\\schai\\\\Downloads\\\\19_AI.csv\", delimiter = \",\")\n",
    "for i in range(len(data)):\n",
    "    data_id = ai_19_data['Student_ID'][i]\n",
    "    data_ip = {\n",
    "        'name' : data['Name'][i],\n",
    "        'studentID': data_id,\n",
    "    }\n",
    "    \n",
    "    response = requests.put(f'{database_url}/{path}/{data_id}.json', json=data_ip)\n",
    "    \n",
    "    if response.status_code == 200:\n",
    "        continue\n",
    "    else:\n",
    "        print(\"error\")\n",
    "    "
   ]
  },
  {
   "cell_type": "code",
   "execution_count": null,
   "id": "703cde30",
   "metadata": {},
   "outputs": [],
   "source": []
  },
  {
   "cell_type": "code",
   "execution_count": null,
   "id": "b2f92ef9",
   "metadata": {},
   "outputs": [],
   "source": [
    "path = 'students/batch/20/CSE'\n",
    "\n",
    "data_2020 = pd.read_csv()\n",
    "\n",
    "for i in range(len(data)):\n",
    "    data_id = data['Student_ID'][i]\n",
    "    data_ip = {\n",
    "        'name' : data['Name'][i],\n",
    "        'studentID': data_id,\n",
    "    }\n",
    "    \n",
    "    response = requests.put(f'{database_url}/{path}/{data_id}.json', json=data_ip)\n",
    "    \n",
    "    if response.status_code == 200:\n",
    "        continue\n",
    "    else:\n",
    "        print(\"error\")"
   ]
  },
  {
   "cell_type": "code",
   "execution_count": 23,
   "id": "0ff051bf",
   "metadata": {},
   "outputs": [],
   "source": [
    "path = 'faculty'\n",
    "\n",
    "\n",
    "# \"C:\\Users\\schai\\Downloads\\faculty_details.csv\"\n",
    "faculty_data = pd.read_csv(\"C:\\\\Users\\\\schai\\\\Downloads\\\\faculty_details.csv\")\n",
    "\n",
    "for i in range(len(faculty_data)):\n",
    "    faculty_id = faculty_data['facultyID'][i]\n",
    "    data_ip = {\n",
    "        'name' : faculty_data['Name'][i],\n",
    "        'facultyID':str(faculty_id),\n",
    "        'enrolYear': int(faculty_data['enrolYear'][i])\n",
    "\n",
    "    }\n",
    "    \n",
    "    response = requests.put(f'{database_url}/{path}/{faculty_id}.json', json=data_ip)\n",
    "    \n",
    "    if response.status_code == 200:\n",
    "        continue\n",
    "    else:\n",
    "        print(\"error\")"
   ]
  },
  {
   "cell_type": "code",
   "execution_count": 19,
   "id": "8c18d672",
   "metadata": {},
   "outputs": [
    {
     "data": {
      "text/html": [
       "<div>\n",
       "<style scoped>\n",
       "    .dataframe tbody tr th:only-of-type {\n",
       "        vertical-align: middle;\n",
       "    }\n",
       "\n",
       "    .dataframe tbody tr th {\n",
       "        vertical-align: top;\n",
       "    }\n",
       "\n",
       "    .dataframe thead th {\n",
       "        text-align: right;\n",
       "    }\n",
       "</style>\n",
       "<table border=\"1\" class=\"dataframe\">\n",
       "  <thead>\n",
       "    <tr style=\"text-align: right;\">\n",
       "      <th></th>\n",
       "      <th>facultyID</th>\n",
       "      <th>Name</th>\n",
       "      <th>enrolYear</th>\n",
       "    </tr>\n",
       "  </thead>\n",
       "  <tbody>\n",
       "    <tr>\n",
       "      <th>0</th>\n",
       "      <td>fe123</td>\n",
       "      <td>Suresh</td>\n",
       "      <td>2019</td>\n",
       "    </tr>\n",
       "    <tr>\n",
       "      <th>1</th>\n",
       "      <td>fe124</td>\n",
       "      <td>Ramesh</td>\n",
       "      <td>2017</td>\n",
       "    </tr>\n",
       "    <tr>\n",
       "      <th>2</th>\n",
       "      <td>fe125</td>\n",
       "      <td>Srikar</td>\n",
       "      <td>2018</td>\n",
       "    </tr>\n",
       "    <tr>\n",
       "      <th>3</th>\n",
       "      <td>fe126</td>\n",
       "      <td>Priyam</td>\n",
       "      <td>2017</td>\n",
       "    </tr>\n",
       "    <tr>\n",
       "      <th>4</th>\n",
       "      <td>fe127</td>\n",
       "      <td>Ganesh</td>\n",
       "      <td>2015</td>\n",
       "    </tr>\n",
       "  </tbody>\n",
       "</table>\n",
       "</div>"
      ],
      "text/plain": [
       "  facultyID    Name  enrolYear\n",
       "0     fe123  Suresh       2019\n",
       "1     fe124  Ramesh       2017\n",
       "2     fe125  Srikar       2018\n",
       "3     fe126  Priyam       2017\n",
       "4     fe127  Ganesh       2015"
      ]
     },
     "execution_count": 19,
     "metadata": {},
     "output_type": "execute_result"
    }
   ],
   "source": [
    "faculty_data"
   ]
  },
  {
   "cell_type": "code",
   "execution_count": 21,
   "id": "4c8ea0cd",
   "metadata": {},
   "outputs": [
    {
     "data": {
      "text/html": [
       "<div>\n",
       "<style scoped>\n",
       "    .dataframe tbody tr th:only-of-type {\n",
       "        vertical-align: middle;\n",
       "    }\n",
       "\n",
       "    .dataframe tbody tr th {\n",
       "        vertical-align: top;\n",
       "    }\n",
       "\n",
       "    .dataframe thead th {\n",
       "        text-align: right;\n",
       "    }\n",
       "</style>\n",
       "<table border=\"1\" class=\"dataframe\">\n",
       "  <thead>\n",
       "    <tr style=\"text-align: right;\">\n",
       "      <th></th>\n",
       "      <th>Student_ID</th>\n",
       "      <th>Name</th>\n",
       "    </tr>\n",
       "  </thead>\n",
       "  <tbody>\n",
       "    <tr>\n",
       "      <th>0</th>\n",
       "      <td>SE19UEEE001</td>\n",
       "      <td>Rindha</td>\n",
       "    </tr>\n",
       "    <tr>\n",
       "      <th>1</th>\n",
       "      <td>SE19UEEE002</td>\n",
       "      <td>Sonali</td>\n",
       "    </tr>\n",
       "    <tr>\n",
       "      <th>2</th>\n",
       "      <td>SE19UEEE003</td>\n",
       "      <td>Ranjit</td>\n",
       "    </tr>\n",
       "    <tr>\n",
       "      <th>3</th>\n",
       "      <td>SE19UEEE004</td>\n",
       "      <td>Vishal</td>\n",
       "    </tr>\n",
       "    <tr>\n",
       "      <th>4</th>\n",
       "      <td>SE19UEEE005</td>\n",
       "      <td>Rohan</td>\n",
       "    </tr>\n",
       "    <tr>\n",
       "      <th>5</th>\n",
       "      <td>SE19UEEE006</td>\n",
       "      <td>Nihil</td>\n",
       "    </tr>\n",
       "  </tbody>\n",
       "</table>\n",
       "</div>"
      ],
      "text/plain": [
       "    Student_ID    Name\n",
       "0  SE19UEEE001  Rindha\n",
       "1  SE19UEEE002  Sonali\n",
       "2  SE19UEEE003  Ranjit\n",
       "3  SE19UEEE004  Vishal\n",
       "4  SE19UEEE005   Rohan\n",
       "5  SE19UEEE006   Nihil"
      ]
     },
     "execution_count": 21,
     "metadata": {},
     "output_type": "execute_result"
    }
   ],
   "source": [
    "ai_19_data"
   ]
  },
  {
   "cell_type": "code",
   "execution_count": 23,
   "id": "e67d37cb",
   "metadata": {},
   "outputs": [],
   "source": [
    "path = 'students/batch/19/AI'\n",
    "\n",
    "ai_19_data = pd.read_csv(\"E:\\\\19_AI.csv\")\n",
    "\n",
    "\n",
    "    "
   ]
  },
  {
   "cell_type": "code",
   "execution_count": 26,
   "id": "cca51441",
   "metadata": {},
   "outputs": [],
   "source": [
    "ai_19_data['year'] = 4"
   ]
  },
  {
   "cell_type": "code",
   "execution_count": 27,
   "id": "1ccede50",
   "metadata": {},
   "outputs": [
    {
     "data": {
      "text/html": [
       "<div>\n",
       "<style scoped>\n",
       "    .dataframe tbody tr th:only-of-type {\n",
       "        vertical-align: middle;\n",
       "    }\n",
       "\n",
       "    .dataframe tbody tr th {\n",
       "        vertical-align: top;\n",
       "    }\n",
       "\n",
       "    .dataframe thead th {\n",
       "        text-align: right;\n",
       "    }\n",
       "</style>\n",
       "<table border=\"1\" class=\"dataframe\">\n",
       "  <thead>\n",
       "    <tr style=\"text-align: right;\">\n",
       "      <th></th>\n",
       "      <th>Student_ID \\t</th>\n",
       "      <th>Name</th>\n",
       "      <th>year</th>\n",
       "    </tr>\n",
       "  </thead>\n",
       "  <tbody>\n",
       "    <tr>\n",
       "      <th>0</th>\n",
       "      <td>SE19UARI001</td>\n",
       "      <td>Sridhar</td>\n",
       "      <td>4</td>\n",
       "    </tr>\n",
       "    <tr>\n",
       "      <th>1</th>\n",
       "      <td>SE19UARI002\\t</td>\n",
       "      <td>Anjali</td>\n",
       "      <td>4</td>\n",
       "    </tr>\n",
       "    <tr>\n",
       "      <th>2</th>\n",
       "      <td>SE19UARI003\\t</td>\n",
       "      <td>Navya</td>\n",
       "      <td>4</td>\n",
       "    </tr>\n",
       "    <tr>\n",
       "      <th>3</th>\n",
       "      <td>SE19UARI004</td>\n",
       "      <td>Ravi</td>\n",
       "      <td>4</td>\n",
       "    </tr>\n",
       "    <tr>\n",
       "      <th>4</th>\n",
       "      <td>SE19UARI005\\t</td>\n",
       "      <td>Reddy</td>\n",
       "      <td>4</td>\n",
       "    </tr>\n",
       "    <tr>\n",
       "      <th>5</th>\n",
       "      <td>SE19UARI006</td>\n",
       "      <td>Jitender</td>\n",
       "      <td>4</td>\n",
       "    </tr>\n",
       "  </tbody>\n",
       "</table>\n",
       "</div>"
      ],
      "text/plain": [
       "   Student_ID \\t      Name  year\n",
       "0    SE19UARI001   Sridhar     4\n",
       "1  SE19UARI002\\t    Anjali     4\n",
       "2  SE19UARI003\\t     Navya     4\n",
       "3    SE19UARI004      Ravi     4\n",
       "4  SE19UARI005\\t     Reddy     4\n",
       "5    SE19UARI006  Jitender     4"
      ]
     },
     "execution_count": 27,
     "metadata": {},
     "output_type": "execute_result"
    }
   ],
   "source": [
    "ai_19_data"
   ]
  },
  {
   "cell_type": "code",
   "execution_count": 30,
   "id": "bdf21b24",
   "metadata": {},
   "outputs": [
    {
     "name": "stdout",
     "output_type": "stream",
     "text": [
      "error\n",
      "error\n",
      "error\n"
     ]
    }
   ],
   "source": [
    "for i in range(len(ai_19_data)):\n",
    "    data_id = str(ai_19_data['Student_ID \\t'][i])\n",
    "    data_ip = {\n",
    "        'name' : str(ai_19_data['Name'][i]),\n",
    "        'studentID': data_id\n",
    "    }\n",
    "    \n",
    "    response = requests.put(f'{database_url}/{path}/{data_id}.json', json=data_ip)\n",
    "    \n",
    "    if response.status_code == 200:\n",
    "        continue\n",
    "    else:\n",
    "        print(\"error\")"
   ]
  },
  {
   "cell_type": "code",
   "execution_count": 16,
   "id": "a1dd536c",
   "metadata": {},
   "outputs": [
    {
     "data": {
      "text/html": [
       "<div>\n",
       "<style scoped>\n",
       "    .dataframe tbody tr th:only-of-type {\n",
       "        vertical-align: middle;\n",
       "    }\n",
       "\n",
       "    .dataframe tbody tr th {\n",
       "        vertical-align: top;\n",
       "    }\n",
       "\n",
       "    .dataframe thead th {\n",
       "        text-align: right;\n",
       "    }\n",
       "</style>\n",
       "<table border=\"1\" class=\"dataframe\">\n",
       "  <thead>\n",
       "    <tr style=\"text-align: right;\">\n",
       "      <th></th>\n",
       "      <th>Student_ID</th>\n",
       "      <th>Name</th>\n",
       "    </tr>\n",
       "  </thead>\n",
       "  <tbody>\n",
       "    <tr>\n",
       "      <th>0</th>\n",
       "      <td>SE19UEEE001</td>\n",
       "      <td>Rindha</td>\n",
       "    </tr>\n",
       "    <tr>\n",
       "      <th>1</th>\n",
       "      <td>SE19UEEE002</td>\n",
       "      <td>Sonali</td>\n",
       "    </tr>\n",
       "    <tr>\n",
       "      <th>2</th>\n",
       "      <td>SE19UEEE003</td>\n",
       "      <td>Ranjit</td>\n",
       "    </tr>\n",
       "    <tr>\n",
       "      <th>3</th>\n",
       "      <td>SE19UEEE004</td>\n",
       "      <td>Vishal</td>\n",
       "    </tr>\n",
       "    <tr>\n",
       "      <th>4</th>\n",
       "      <td>SE19UEEE005</td>\n",
       "      <td>Rohan</td>\n",
       "    </tr>\n",
       "    <tr>\n",
       "      <th>5</th>\n",
       "      <td>SE19UEEE006</td>\n",
       "      <td>Nihil</td>\n",
       "    </tr>\n",
       "  </tbody>\n",
       "</table>\n",
       "</div>"
      ],
      "text/plain": [
       "    Student_ID    Name\n",
       "0  SE19UEEE001  Rindha\n",
       "1  SE19UEEE002  Sonali\n",
       "2  SE19UEEE003  Ranjit\n",
       "3  SE19UEEE004  Vishal\n",
       "4  SE19UEEE005   Rohan\n",
       "5  SE19UEEE006   Nihil"
      ]
     },
     "execution_count": 16,
     "metadata": {},
     "output_type": "execute_result"
    }
   ],
   "source": [
    "ai_19_data"
   ]
  },
  {
   "cell_type": "code",
   "execution_count": 20,
   "id": "fc3a6716",
   "metadata": {},
   "outputs": [],
   "source": [
    "path = 'students/batch/19/EEE'\n",
    "\n",
    "ai_19_data = pd.read_csv(\"E:\\\\19_EEE.csv\", delimiter = \",\")\n",
    "\n",
    "for i in range(len(ai_19_data)):\n",
    "    data_id = ai_19_data['Student_ID'][i]\n",
    "    data_ip = {\n",
    "        'name' : ai_19_data['Name'][i],\n",
    "        'studentID': data_id,\n",
    "    }\n",
    "    \n",
    "    response = requests.put(f'{database_url}/{path}/{data_id}.json', json=data_ip)\n",
    "    \n",
    "    if response.status_code == 200:\n",
    "        continue\n",
    "    else:\n",
    "        print(\"error\")\n",
    "    "
   ]
  },
  {
   "cell_type": "code",
   "execution_count": 33,
   "id": "55fc0e85",
   "metadata": {},
   "outputs": [],
   "source": [
    "path = 'students/batch/20/CSE'\n",
    "\n",
    "data = pd.read_csv(\"E:\\\\20_CSE.csv\")\n",
    "\n",
    "for i in range(len(data)):\n",
    "    data_id = data['Student_ID'][i]\n",
    "    data_ip = {\n",
    "        'name' : data['Name'][i],\n",
    "        'studentID': data_id,\n",
    "    }\n",
    "    \n",
    "    response = requests.put(f'{database_url}/{path}/{data_id}.json', json=data_ip)\n",
    "    \n",
    "    if response.status_code == 200:\n",
    "        continue\n",
    "    else:\n",
    "        print(\"error\")\n",
    "    "
   ]
  },
  {
   "cell_type": "markdown",
   "id": "4e299bc6",
   "metadata": {},
   "source": [
    "# Grades\n"
   ]
  },
  {
   "cell_type": "code",
   "execution_count": null,
   "id": "ef3d7ba5",
   "metadata": {},
   "outputs": [],
   "source": []
  }
 ],
 "metadata": {
  "kernelspec": {
   "display_name": "Python 3 (ipykernel)",
   "language": "python",
   "name": "python3"
  },
  "language_info": {
   "codemirror_mode": {
    "name": "ipython",
    "version": 3
   },
   "file_extension": ".py",
   "mimetype": "text/x-python",
   "name": "python",
   "nbconvert_exporter": "python",
   "pygments_lexer": "ipython3",
   "version": "3.9.12"
  }
 },
 "nbformat": 4,
 "nbformat_minor": 5
}
